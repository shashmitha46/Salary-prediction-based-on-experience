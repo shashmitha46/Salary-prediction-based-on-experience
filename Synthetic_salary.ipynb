{
  "nbformat": 4,
  "nbformat_minor": 0,
  "metadata": {
    "colab": {
      "provenance": []
    },
    "kernelspec": {
      "name": "python3",
      "display_name": "Python 3"
    },
    "language_info": {
      "name": "python"
    }
  },
  "cells": [
    {
      "cell_type": "markdown",
      "source": [
        "# **Salary prediction based on experience**"
      ],
      "metadata": {
        "id": "pIxoqJadK_Ma"
      }
    },
    {
      "cell_type": "code",
      "execution_count": 1,
      "metadata": {
        "id": "xWBrvDl3IY_e"
      },
      "outputs": [],
      "source": [
        "# importing the necessary libraries\n",
        "import pandas as pd\n",
        "from sklearn.model_selection import train_test_split\n",
        "from sklearn.linear_model import LinearRegression\n",
        "from sklearn.preprocessing import StandardScaler\n",
        "from sklearn.metrics import mean_absolute_error,r2_score"
      ]
    },
    {
      "cell_type": "code",
      "source": [
        "# step 1:Load the dataset and its preview\n",
        "data = pd.read_csv('/content/synthetic_salary_prediction_data.csv')\n",
        "print(data.head())"
      ],
      "metadata": {
        "colab": {
          "base_uri": "https://localhost:8080/"
        },
        "id": "XS749dSOKQcr",
        "outputId": "9a8a300c-a21a-49c7-ee9c-734f1cf5a981"
      },
      "execution_count": 3,
      "outputs": [
        {
          "output_type": "stream",
          "name": "stdout",
          "text": [
            "   Age  YearsExperience EducationLevel              JobTitle    Industry  \\\n",
            "0   47               14     Bachelor's          Data Analyst  Healthcare   \n",
            "1   46               12     Bachelor's          Data Analyst     Finance   \n",
            "2   55               35    High School       Sales Associate   Education   \n",
            "3   57               30       Master's  Marketing Specialist     Finance   \n",
            "4   55               20    High School       Project Manager  Healthcare   \n",
            "\n",
            "        Location  AnnualSalary  \n",
            "0        Seattle         74746  \n",
            "1       New York         68418  \n",
            "2        Houston        113002  \n",
            "3  San Francisco        100868  \n",
            "4       New York         78093  \n"
          ]
        }
      ]
    },
    {
      "cell_type": "code",
      "source": [
        "# step 2: Data Cleaning\n",
        "print(data.isnull().sum())\n",
        "data.drop_duplicates(inplace=True)"
      ],
      "metadata": {
        "colab": {
          "base_uri": "https://localhost:8080/"
        },
        "id": "8NcPYBylKjYO",
        "outputId": "757b85db-e81a-4944-eebd-b97308f47350"
      },
      "execution_count": 4,
      "outputs": [
        {
          "output_type": "stream",
          "name": "stdout",
          "text": [
            "Age                0\n",
            "YearsExperience    0\n",
            "EducationLevel     0\n",
            "JobTitle           0\n",
            "Industry           0\n",
            "Location           0\n",
            "AnnualSalary       0\n",
            "dtype: int64\n"
          ]
        }
      ]
    },
    {
      "cell_type": "code",
      "source": [
        "# For simplicity, let's drop 'Age' and 'Job Title' as they may not contribute significantly to salary\n",
        "data.drop(['Age', 'JobTitle'], axis=1, inplace=True)"
      ],
      "metadata": {
        "id": "vQrJYbVtMf13"
      },
      "execution_count": 5,
      "outputs": []
    },
    {
      "cell_type": "code",
      "source": [
        "#let's check data again\n",
        "print(data.head())\n"
      ],
      "metadata": {
        "colab": {
          "base_uri": "https://localhost:8080/"
        },
        "id": "vvVQppLwNKFx",
        "outputId": "858cb369-40ef-4d46-d946-12d715a85374"
      },
      "execution_count": 6,
      "outputs": [
        {
          "output_type": "stream",
          "name": "stdout",
          "text": [
            "   YearsExperience EducationLevel    Industry       Location  AnnualSalary\n",
            "0               14     Bachelor's  Healthcare        Seattle         74746\n",
            "1               12     Bachelor's     Finance       New York         68418\n",
            "2               35    High School   Education        Houston        113002\n",
            "3               30       Master's     Finance  San Francisco        100868\n",
            "4               20    High School  Healthcare       New York         78093\n"
          ]
        }
      ]
    },
    {
      "cell_type": "code",
      "source": [
        "# step 4: Encoding categorical variables\n",
        "data = pd.get_dummies(data, columns=['Location', 'EducationLevel','Industry'], drop_first=True)\n"
      ],
      "metadata": {
        "id": "qPxBG7xuNR4J"
      },
      "execution_count": 7,
      "outputs": []
    },
    {
      "cell_type": "code",
      "source": [
        "# let's check data again\n",
        "print(data.head())"
      ],
      "metadata": {
        "colab": {
          "base_uri": "https://localhost:8080/"
        },
        "id": "E1QV5VUyRf9C",
        "outputId": "aad5cf44-b54c-4c5b-81b2-f256274dbbbe"
      },
      "execution_count": 8,
      "outputs": [
        {
          "output_type": "stream",
          "name": "stdout",
          "text": [
            "   YearsExperience  AnnualSalary  Location_Houston  Location_New York  \\\n",
            "0               14         74746             False              False   \n",
            "1               12         68418             False               True   \n",
            "2               35        113002              True              False   \n",
            "3               30        100868             False              False   \n",
            "4               20         78093             False               True   \n",
            "\n",
            "   Location_San Francisco  Location_Seattle  EducationLevel_High School  \\\n",
            "0                   False              True                       False   \n",
            "1                   False             False                       False   \n",
            "2                   False             False                        True   \n",
            "3                    True             False                       False   \n",
            "4                   False             False                        True   \n",
            "\n",
            "   EducationLevel_Master's  EducationLevel_PhD  Industry_Finance  \\\n",
            "0                    False               False             False   \n",
            "1                    False               False              True   \n",
            "2                    False               False             False   \n",
            "3                     True               False              True   \n",
            "4                    False               False             False   \n",
            "\n",
            "   Industry_Healthcare  Industry_Retail  Industry_Tech  \n",
            "0                 True            False          False  \n",
            "1                False            False          False  \n",
            "2                False            False          False  \n",
            "3                False            False          False  \n",
            "4                 True            False          False  \n"
          ]
        }
      ]
    },
    {
      "cell_type": "code",
      "source": [
        "# Step 5: Feature Scaling\n",
        "scaler = StandardScaler()\n",
        "data[['YearsExperience']] = scaler.fit_transform(data[['YearsExperience']])"
      ],
      "metadata": {
        "id": "iOU0dyoZRo4U"
      },
      "execution_count": 9,
      "outputs": []
    },
    {
      "cell_type": "code",
      "source": [
        "print(data.head())"
      ],
      "metadata": {
        "colab": {
          "base_uri": "https://localhost:8080/"
        },
        "id": "NF6nwcLjToMO",
        "outputId": "a0806661-f63f-4d6c-c474-dd98d0e0d2dc"
      },
      "execution_count": 10,
      "outputs": [
        {
          "output_type": "stream",
          "name": "stdout",
          "text": [
            "   YearsExperience  AnnualSalary  Location_Houston  Location_New York  \\\n",
            "0        -0.521391         74746             False              False   \n",
            "1        -0.690564         68418             False               True   \n",
            "2         1.254924        113002              True              False   \n",
            "3         0.831992        100868             False              False   \n",
            "4        -0.013872         78093             False               True   \n",
            "\n",
            "   Location_San Francisco  Location_Seattle  EducationLevel_High School  \\\n",
            "0                   False              True                       False   \n",
            "1                   False             False                       False   \n",
            "2                   False             False                        True   \n",
            "3                    True             False                       False   \n",
            "4                   False             False                        True   \n",
            "\n",
            "   EducationLevel_Master's  EducationLevel_PhD  Industry_Finance  \\\n",
            "0                    False               False             False   \n",
            "1                    False               False              True   \n",
            "2                    False               False             False   \n",
            "3                     True               False              True   \n",
            "4                    False               False             False   \n",
            "\n",
            "   Industry_Healthcare  Industry_Retail  Industry_Tech  \n",
            "0                 True            False          False  \n",
            "1                False            False          False  \n",
            "2                False            False          False  \n",
            "3                False            False          False  \n",
            "4                 True            False          False  \n"
          ]
        }
      ]
    },
    {
      "cell_type": "code",
      "source": [
        "# step 6: Train-Test-Split\n",
        "X = data.drop('AnnualSalary',axis=1) #Features\n",
        "y = data['AnnualSalary'] #Target\n",
        "X_train, X_test, y_train, y_test = train_test_split(X,y,test_size=0.2,random_state=42)"
      ],
      "metadata": {
        "id": "eL7zsZ-ATw1r"
      },
      "execution_count": 11,
      "outputs": []
    },
    {
      "cell_type": "code",
      "source": [
        "# lets see and check target variable and other independent features along with X_tain, X_train,\n",
        "print('Features')\n",
        "print(X)\n",
        "print('Target variable')\n",
        "print(y)\n",
        "print('x-train,x-test,y-train,y-test')\n",
        "print(X_train)\n",
        "print(X_test)\n",
        "print(y_train)\n",
        "print(y_test)"
      ],
      "metadata": {
        "colab": {
          "base_uri": "https://localhost:8080/"
        },
        "id": "3MJmdlsnUtfo",
        "outputId": "db11c7fc-e6e1-4250-c66a-0d10a51abf94"
      },
      "execution_count": 12,
      "outputs": [
        {
          "output_type": "stream",
          "name": "stdout",
          "text": [
            "Features\n",
            "     YearsExperience  Location_Houston  Location_New York  \\\n",
            "0          -0.521391             False              False   \n",
            "1          -0.690564             False               True   \n",
            "2           1.254924              True              False   \n",
            "3           0.831992             False              False   \n",
            "4          -0.013872             False               True   \n",
            "..               ...               ...                ...   \n",
            "495         0.324473             False              False   \n",
            "496        -0.775150             False              False   \n",
            "497         1.508683              True              False   \n",
            "498         0.155301              True              False   \n",
            "499         0.578233             False              False   \n",
            "\n",
            "     Location_San Francisco  Location_Seattle  EducationLevel_High School  \\\n",
            "0                     False              True                       False   \n",
            "1                     False             False                       False   \n",
            "2                     False             False                        True   \n",
            "3                      True             False                       False   \n",
            "4                     False             False                        True   \n",
            "..                      ...               ...                         ...   \n",
            "495                    True             False                       False   \n",
            "496                   False              True                       False   \n",
            "497                   False             False                        True   \n",
            "498                   False             False                        True   \n",
            "499                    True             False                       False   \n",
            "\n",
            "     EducationLevel_Master's  EducationLevel_PhD  Industry_Finance  \\\n",
            "0                      False               False             False   \n",
            "1                      False               False              True   \n",
            "2                      False               False             False   \n",
            "3                       True               False              True   \n",
            "4                      False               False             False   \n",
            "..                       ...                 ...               ...   \n",
            "495                     True               False             False   \n",
            "496                    False               False             False   \n",
            "497                    False               False              True   \n",
            "498                    False               False             False   \n",
            "499                    False                True              True   \n",
            "\n",
            "     Industry_Healthcare  Industry_Retail  Industry_Tech  \n",
            "0                   True            False          False  \n",
            "1                  False            False          False  \n",
            "2                  False            False          False  \n",
            "3                  False            False          False  \n",
            "4                   True            False          False  \n",
            "..                   ...              ...            ...  \n",
            "495                False             True          False  \n",
            "496                 True            False          False  \n",
            "497                False            False          False  \n",
            "498                False            False          False  \n",
            "499                False            False          False  \n",
            "\n",
            "[500 rows x 12 columns]\n",
            "Target variable\n",
            "0       74746\n",
            "1       68418\n",
            "2      113002\n",
            "3      100868\n",
            "4       78093\n",
            "        ...  \n",
            "495     92328\n",
            "496     71552\n",
            "497    123023\n",
            "498     81591\n",
            "499    110829\n",
            "Name: AnnualSalary, Length: 500, dtype: int64\n",
            "x-train,x-test,y-train,y-test\n",
            "     YearsExperience  Location_Houston  Location_New York  \\\n",
            "249         1.593270              True              False   \n",
            "433         1.254924              True              False   \n",
            "19          1.677856             False               True   \n",
            "322         1.085751             False               True   \n",
            "332        -1.367255             False              False   \n",
            "..               ...               ...                ...   \n",
            "106         1.254924             False              False   \n",
            "270        -1.451841             False              False   \n",
            "348        -0.775150             False               True   \n",
            "435        -1.705600             False               True   \n",
            "102         1.508683             False              False   \n",
            "\n",
            "     Location_San Francisco  Location_Seattle  EducationLevel_High School  \\\n",
            "249                   False             False                        True   \n",
            "433                   False             False                       False   \n",
            "19                    False             False                        True   \n",
            "322                   False             False                       False   \n",
            "332                   False              True                        True   \n",
            "..                      ...               ...                         ...   \n",
            "106                    True             False                        True   \n",
            "270                    True             False                       False   \n",
            "348                   False             False                       False   \n",
            "435                   False             False                       False   \n",
            "102                   False             False                       False   \n",
            "\n",
            "     EducationLevel_Master's  EducationLevel_PhD  Industry_Finance  \\\n",
            "249                    False               False              True   \n",
            "433                    False               False              True   \n",
            "19                     False               False             False   \n",
            "322                    False               False             False   \n",
            "332                    False               False             False   \n",
            "..                       ...                 ...               ...   \n",
            "106                    False               False             False   \n",
            "270                     True               False             False   \n",
            "348                    False               False             False   \n",
            "435                     True               False             False   \n",
            "102                    False                True             False   \n",
            "\n",
            "     Industry_Healthcare  Industry_Retail  Industry_Tech  \n",
            "249                False            False          False  \n",
            "433                False            False          False  \n",
            "19                 False            False          False  \n",
            "322                False            False          False  \n",
            "332                 True            False          False  \n",
            "..                   ...              ...            ...  \n",
            "106                False             True          False  \n",
            "270                 True            False          False  \n",
            "348                 True            False          False  \n",
            "435                False             True          False  \n",
            "102                False             True          False  \n",
            "\n",
            "[400 rows x 12 columns]\n",
            "     YearsExperience  Location_Houston  Location_New York  \\\n",
            "361        -0.013872              True              False   \n",
            "73          0.493646             False              False   \n",
            "374         0.070714             False              False   \n",
            "155         0.578233             False              False   \n",
            "104         0.831992             False              False   \n",
            "..               ...               ...                ...   \n",
            "347         0.831992              True              False   \n",
            "86         -0.944323             False              False   \n",
            "75         -1.282668             False              False   \n",
            "438         1.677856             False               True   \n",
            "15         -0.605977             False              False   \n",
            "\n",
            "     Location_San Francisco  Location_Seattle  EducationLevel_High School  \\\n",
            "361                   False             False                       False   \n",
            "73                    False             False                       False   \n",
            "374                    True             False                        True   \n",
            "155                    True             False                       False   \n",
            "104                    True             False                       False   \n",
            "..                      ...               ...                         ...   \n",
            "347                   False             False                       False   \n",
            "86                    False             False                        True   \n",
            "75                    False             False                       False   \n",
            "438                   False             False                       False   \n",
            "15                    False              True                        True   \n",
            "\n",
            "     EducationLevel_Master's  EducationLevel_PhD  Industry_Finance  \\\n",
            "361                    False               False             False   \n",
            "73                     False               False             False   \n",
            "374                    False               False             False   \n",
            "155                    False                True             False   \n",
            "104                    False                True             False   \n",
            "..                       ...                 ...               ...   \n",
            "347                     True               False             False   \n",
            "86                     False               False              True   \n",
            "75                     False               False              True   \n",
            "438                    False               False             False   \n",
            "15                     False               False             False   \n",
            "\n",
            "     Industry_Healthcare  Industry_Retail  Industry_Tech  \n",
            "361                False            False          False  \n",
            "73                 False            False           True  \n",
            "374                 True            False          False  \n",
            "155                False            False           True  \n",
            "104                 True            False          False  \n",
            "..                   ...              ...            ...  \n",
            "347                False            False           True  \n",
            "86                 False            False          False  \n",
            "75                 False            False          False  \n",
            "438                 True            False          False  \n",
            "15                 False            False          False  \n",
            "\n",
            "[100 rows x 12 columns]\n",
            "249    126491\n",
            "433    113373\n",
            "19     118119\n",
            "322    124559\n",
            "332     59630\n",
            "        ...  \n",
            "106    118915\n",
            "270     75616\n",
            "348     71880\n",
            "435     57526\n",
            "102    138259\n",
            "Name: AnnualSalary, Length: 400, dtype: int64\n",
            "361     81735\n",
            "73     113303\n",
            "374     93218\n",
            "155    108154\n",
            "104    120767\n",
            "        ...  \n",
            "347    108600\n",
            "86      76349\n",
            "75      64010\n",
            "438    134375\n",
            "15      79430\n",
            "Name: AnnualSalary, Length: 100, dtype: int64\n"
          ]
        }
      ]
    },
    {
      "cell_type": "code",
      "source": [
        "# step 7: Build and train the model\n",
        "model = LinearRegression()\n",
        "model.fit(X_train, y_train)"
      ],
      "metadata": {
        "colab": {
          "base_uri": "https://localhost:8080/",
          "height": 80
        },
        "id": "11Ys_He-V68H",
        "outputId": "fef6d35f-f15b-42d9-e2ff-c7bbbe8e9c64"
      },
      "execution_count": null,
      "outputs": [
        {
          "output_type": "execute_result",
          "data": {
            "text/plain": [
              "LinearRegression()"
            ],
            "text/html": [
              "<style>#sk-container-id-2 {\n",
              "  /* Definition of color scheme common for light and dark mode */\n",
              "  --sklearn-color-text: black;\n",
              "  --sklearn-color-line: gray;\n",
              "  /* Definition of color scheme for unfitted estimators */\n",
              "  --sklearn-color-unfitted-level-0: #fff5e6;\n",
              "  --sklearn-color-unfitted-level-1: #f6e4d2;\n",
              "  --sklearn-color-unfitted-level-2: #ffe0b3;\n",
              "  --sklearn-color-unfitted-level-3: chocolate;\n",
              "  /* Definition of color scheme for fitted estimators */\n",
              "  --sklearn-color-fitted-level-0: #f0f8ff;\n",
              "  --sklearn-color-fitted-level-1: #d4ebff;\n",
              "  --sklearn-color-fitted-level-2: #b3dbfd;\n",
              "  --sklearn-color-fitted-level-3: cornflowerblue;\n",
              "\n",
              "  /* Specific color for light theme */\n",
              "  --sklearn-color-text-on-default-background: var(--sg-text-color, var(--theme-code-foreground, var(--jp-content-font-color1, black)));\n",
              "  --sklearn-color-background: var(--sg-background-color, var(--theme-background, var(--jp-layout-color0, white)));\n",
              "  --sklearn-color-border-box: var(--sg-text-color, var(--theme-code-foreground, var(--jp-content-font-color1, black)));\n",
              "  --sklearn-color-icon: #696969;\n",
              "\n",
              "  @media (prefers-color-scheme: dark) {\n",
              "    /* Redefinition of color scheme for dark theme */\n",
              "    --sklearn-color-text-on-default-background: var(--sg-text-color, var(--theme-code-foreground, var(--jp-content-font-color1, white)));\n",
              "    --sklearn-color-background: var(--sg-background-color, var(--theme-background, var(--jp-layout-color0, #111)));\n",
              "    --sklearn-color-border-box: var(--sg-text-color, var(--theme-code-foreground, var(--jp-content-font-color1, white)));\n",
              "    --sklearn-color-icon: #878787;\n",
              "  }\n",
              "}\n",
              "\n",
              "#sk-container-id-2 {\n",
              "  color: var(--sklearn-color-text);\n",
              "}\n",
              "\n",
              "#sk-container-id-2 pre {\n",
              "  padding: 0;\n",
              "}\n",
              "\n",
              "#sk-container-id-2 input.sk-hidden--visually {\n",
              "  border: 0;\n",
              "  clip: rect(1px 1px 1px 1px);\n",
              "  clip: rect(1px, 1px, 1px, 1px);\n",
              "  height: 1px;\n",
              "  margin: -1px;\n",
              "  overflow: hidden;\n",
              "  padding: 0;\n",
              "  position: absolute;\n",
              "  width: 1px;\n",
              "}\n",
              "\n",
              "#sk-container-id-2 div.sk-dashed-wrapped {\n",
              "  border: 1px dashed var(--sklearn-color-line);\n",
              "  margin: 0 0.4em 0.5em 0.4em;\n",
              "  box-sizing: border-box;\n",
              "  padding-bottom: 0.4em;\n",
              "  background-color: var(--sklearn-color-background);\n",
              "}\n",
              "\n",
              "#sk-container-id-2 div.sk-container {\n",
              "  /* jupyter's `normalize.less` sets `[hidden] { display: none; }`\n",
              "     but bootstrap.min.css set `[hidden] { display: none !important; }`\n",
              "     so we also need the `!important` here to be able to override the\n",
              "     default hidden behavior on the sphinx rendered scikit-learn.org.\n",
              "     See: https://github.com/scikit-learn/scikit-learn/issues/21755 */\n",
              "  display: inline-block !important;\n",
              "  position: relative;\n",
              "}\n",
              "\n",
              "#sk-container-id-2 div.sk-text-repr-fallback {\n",
              "  display: none;\n",
              "}\n",
              "\n",
              "div.sk-parallel-item,\n",
              "div.sk-serial,\n",
              "div.sk-item {\n",
              "  /* draw centered vertical line to link estimators */\n",
              "  background-image: linear-gradient(var(--sklearn-color-text-on-default-background), var(--sklearn-color-text-on-default-background));\n",
              "  background-size: 2px 100%;\n",
              "  background-repeat: no-repeat;\n",
              "  background-position: center center;\n",
              "}\n",
              "\n",
              "/* Parallel-specific style estimator block */\n",
              "\n",
              "#sk-container-id-2 div.sk-parallel-item::after {\n",
              "  content: \"\";\n",
              "  width: 100%;\n",
              "  border-bottom: 2px solid var(--sklearn-color-text-on-default-background);\n",
              "  flex-grow: 1;\n",
              "}\n",
              "\n",
              "#sk-container-id-2 div.sk-parallel {\n",
              "  display: flex;\n",
              "  align-items: stretch;\n",
              "  justify-content: center;\n",
              "  background-color: var(--sklearn-color-background);\n",
              "  position: relative;\n",
              "}\n",
              "\n",
              "#sk-container-id-2 div.sk-parallel-item {\n",
              "  display: flex;\n",
              "  flex-direction: column;\n",
              "}\n",
              "\n",
              "#sk-container-id-2 div.sk-parallel-item:first-child::after {\n",
              "  align-self: flex-end;\n",
              "  width: 50%;\n",
              "}\n",
              "\n",
              "#sk-container-id-2 div.sk-parallel-item:last-child::after {\n",
              "  align-self: flex-start;\n",
              "  width: 50%;\n",
              "}\n",
              "\n",
              "#sk-container-id-2 div.sk-parallel-item:only-child::after {\n",
              "  width: 0;\n",
              "}\n",
              "\n",
              "/* Serial-specific style estimator block */\n",
              "\n",
              "#sk-container-id-2 div.sk-serial {\n",
              "  display: flex;\n",
              "  flex-direction: column;\n",
              "  align-items: center;\n",
              "  background-color: var(--sklearn-color-background);\n",
              "  padding-right: 1em;\n",
              "  padding-left: 1em;\n",
              "}\n",
              "\n",
              "\n",
              "/* Toggleable style: style used for estimator/Pipeline/ColumnTransformer box that is\n",
              "clickable and can be expanded/collapsed.\n",
              "- Pipeline and ColumnTransformer use this feature and define the default style\n",
              "- Estimators will overwrite some part of the style using the `sk-estimator` class\n",
              "*/\n",
              "\n",
              "/* Pipeline and ColumnTransformer style (default) */\n",
              "\n",
              "#sk-container-id-2 div.sk-toggleable {\n",
              "  /* Default theme specific background. It is overwritten whether we have a\n",
              "  specific estimator or a Pipeline/ColumnTransformer */\n",
              "  background-color: var(--sklearn-color-background);\n",
              "}\n",
              "\n",
              "/* Toggleable label */\n",
              "#sk-container-id-2 label.sk-toggleable__label {\n",
              "  cursor: pointer;\n",
              "  display: block;\n",
              "  width: 100%;\n",
              "  margin-bottom: 0;\n",
              "  padding: 0.5em;\n",
              "  box-sizing: border-box;\n",
              "  text-align: center;\n",
              "}\n",
              "\n",
              "#sk-container-id-2 label.sk-toggleable__label-arrow:before {\n",
              "  /* Arrow on the left of the label */\n",
              "  content: \"▸\";\n",
              "  float: left;\n",
              "  margin-right: 0.25em;\n",
              "  color: var(--sklearn-color-icon);\n",
              "}\n",
              "\n",
              "#sk-container-id-2 label.sk-toggleable__label-arrow:hover:before {\n",
              "  color: var(--sklearn-color-text);\n",
              "}\n",
              "\n",
              "/* Toggleable content - dropdown */\n",
              "\n",
              "#sk-container-id-2 div.sk-toggleable__content {\n",
              "  max-height: 0;\n",
              "  max-width: 0;\n",
              "  overflow: hidden;\n",
              "  text-align: left;\n",
              "  /* unfitted */\n",
              "  background-color: var(--sklearn-color-unfitted-level-0);\n",
              "}\n",
              "\n",
              "#sk-container-id-2 div.sk-toggleable__content.fitted {\n",
              "  /* fitted */\n",
              "  background-color: var(--sklearn-color-fitted-level-0);\n",
              "}\n",
              "\n",
              "#sk-container-id-2 div.sk-toggleable__content pre {\n",
              "  margin: 0.2em;\n",
              "  border-radius: 0.25em;\n",
              "  color: var(--sklearn-color-text);\n",
              "  /* unfitted */\n",
              "  background-color: var(--sklearn-color-unfitted-level-0);\n",
              "}\n",
              "\n",
              "#sk-container-id-2 div.sk-toggleable__content.fitted pre {\n",
              "  /* unfitted */\n",
              "  background-color: var(--sklearn-color-fitted-level-0);\n",
              "}\n",
              "\n",
              "#sk-container-id-2 input.sk-toggleable__control:checked~div.sk-toggleable__content {\n",
              "  /* Expand drop-down */\n",
              "  max-height: 200px;\n",
              "  max-width: 100%;\n",
              "  overflow: auto;\n",
              "}\n",
              "\n",
              "#sk-container-id-2 input.sk-toggleable__control:checked~label.sk-toggleable__label-arrow:before {\n",
              "  content: \"▾\";\n",
              "}\n",
              "\n",
              "/* Pipeline/ColumnTransformer-specific style */\n",
              "\n",
              "#sk-container-id-2 div.sk-label input.sk-toggleable__control:checked~label.sk-toggleable__label {\n",
              "  color: var(--sklearn-color-text);\n",
              "  background-color: var(--sklearn-color-unfitted-level-2);\n",
              "}\n",
              "\n",
              "#sk-container-id-2 div.sk-label.fitted input.sk-toggleable__control:checked~label.sk-toggleable__label {\n",
              "  background-color: var(--sklearn-color-fitted-level-2);\n",
              "}\n",
              "\n",
              "/* Estimator-specific style */\n",
              "\n",
              "/* Colorize estimator box */\n",
              "#sk-container-id-2 div.sk-estimator input.sk-toggleable__control:checked~label.sk-toggleable__label {\n",
              "  /* unfitted */\n",
              "  background-color: var(--sklearn-color-unfitted-level-2);\n",
              "}\n",
              "\n",
              "#sk-container-id-2 div.sk-estimator.fitted input.sk-toggleable__control:checked~label.sk-toggleable__label {\n",
              "  /* fitted */\n",
              "  background-color: var(--sklearn-color-fitted-level-2);\n",
              "}\n",
              "\n",
              "#sk-container-id-2 div.sk-label label.sk-toggleable__label,\n",
              "#sk-container-id-2 div.sk-label label {\n",
              "  /* The background is the default theme color */\n",
              "  color: var(--sklearn-color-text-on-default-background);\n",
              "}\n",
              "\n",
              "/* On hover, darken the color of the background */\n",
              "#sk-container-id-2 div.sk-label:hover label.sk-toggleable__label {\n",
              "  color: var(--sklearn-color-text);\n",
              "  background-color: var(--sklearn-color-unfitted-level-2);\n",
              "}\n",
              "\n",
              "/* Label box, darken color on hover, fitted */\n",
              "#sk-container-id-2 div.sk-label.fitted:hover label.sk-toggleable__label.fitted {\n",
              "  color: var(--sklearn-color-text);\n",
              "  background-color: var(--sklearn-color-fitted-level-2);\n",
              "}\n",
              "\n",
              "/* Estimator label */\n",
              "\n",
              "#sk-container-id-2 div.sk-label label {\n",
              "  font-family: monospace;\n",
              "  font-weight: bold;\n",
              "  display: inline-block;\n",
              "  line-height: 1.2em;\n",
              "}\n",
              "\n",
              "#sk-container-id-2 div.sk-label-container {\n",
              "  text-align: center;\n",
              "}\n",
              "\n",
              "/* Estimator-specific */\n",
              "#sk-container-id-2 div.sk-estimator {\n",
              "  font-family: monospace;\n",
              "  border: 1px dotted var(--sklearn-color-border-box);\n",
              "  border-radius: 0.25em;\n",
              "  box-sizing: border-box;\n",
              "  margin-bottom: 0.5em;\n",
              "  /* unfitted */\n",
              "  background-color: var(--sklearn-color-unfitted-level-0);\n",
              "}\n",
              "\n",
              "#sk-container-id-2 div.sk-estimator.fitted {\n",
              "  /* fitted */\n",
              "  background-color: var(--sklearn-color-fitted-level-0);\n",
              "}\n",
              "\n",
              "/* on hover */\n",
              "#sk-container-id-2 div.sk-estimator:hover {\n",
              "  /* unfitted */\n",
              "  background-color: var(--sklearn-color-unfitted-level-2);\n",
              "}\n",
              "\n",
              "#sk-container-id-2 div.sk-estimator.fitted:hover {\n",
              "  /* fitted */\n",
              "  background-color: var(--sklearn-color-fitted-level-2);\n",
              "}\n",
              "\n",
              "/* Specification for estimator info (e.g. \"i\" and \"?\") */\n",
              "\n",
              "/* Common style for \"i\" and \"?\" */\n",
              "\n",
              ".sk-estimator-doc-link,\n",
              "a:link.sk-estimator-doc-link,\n",
              "a:visited.sk-estimator-doc-link {\n",
              "  float: right;\n",
              "  font-size: smaller;\n",
              "  line-height: 1em;\n",
              "  font-family: monospace;\n",
              "  background-color: var(--sklearn-color-background);\n",
              "  border-radius: 1em;\n",
              "  height: 1em;\n",
              "  width: 1em;\n",
              "  text-decoration: none !important;\n",
              "  margin-left: 1ex;\n",
              "  /* unfitted */\n",
              "  border: var(--sklearn-color-unfitted-level-1) 1pt solid;\n",
              "  color: var(--sklearn-color-unfitted-level-1);\n",
              "}\n",
              "\n",
              ".sk-estimator-doc-link.fitted,\n",
              "a:link.sk-estimator-doc-link.fitted,\n",
              "a:visited.sk-estimator-doc-link.fitted {\n",
              "  /* fitted */\n",
              "  border: var(--sklearn-color-fitted-level-1) 1pt solid;\n",
              "  color: var(--sklearn-color-fitted-level-1);\n",
              "}\n",
              "\n",
              "/* On hover */\n",
              "div.sk-estimator:hover .sk-estimator-doc-link:hover,\n",
              ".sk-estimator-doc-link:hover,\n",
              "div.sk-label-container:hover .sk-estimator-doc-link:hover,\n",
              ".sk-estimator-doc-link:hover {\n",
              "  /* unfitted */\n",
              "  background-color: var(--sklearn-color-unfitted-level-3);\n",
              "  color: var(--sklearn-color-background);\n",
              "  text-decoration: none;\n",
              "}\n",
              "\n",
              "div.sk-estimator.fitted:hover .sk-estimator-doc-link.fitted:hover,\n",
              ".sk-estimator-doc-link.fitted:hover,\n",
              "div.sk-label-container:hover .sk-estimator-doc-link.fitted:hover,\n",
              ".sk-estimator-doc-link.fitted:hover {\n",
              "  /* fitted */\n",
              "  background-color: var(--sklearn-color-fitted-level-3);\n",
              "  color: var(--sklearn-color-background);\n",
              "  text-decoration: none;\n",
              "}\n",
              "\n",
              "/* Span, style for the box shown on hovering the info icon */\n",
              ".sk-estimator-doc-link span {\n",
              "  display: none;\n",
              "  z-index: 9999;\n",
              "  position: relative;\n",
              "  font-weight: normal;\n",
              "  right: .2ex;\n",
              "  padding: .5ex;\n",
              "  margin: .5ex;\n",
              "  width: min-content;\n",
              "  min-width: 20ex;\n",
              "  max-width: 50ex;\n",
              "  color: var(--sklearn-color-text);\n",
              "  box-shadow: 2pt 2pt 4pt #999;\n",
              "  /* unfitted */\n",
              "  background: var(--sklearn-color-unfitted-level-0);\n",
              "  border: .5pt solid var(--sklearn-color-unfitted-level-3);\n",
              "}\n",
              "\n",
              ".sk-estimator-doc-link.fitted span {\n",
              "  /* fitted */\n",
              "  background: var(--sklearn-color-fitted-level-0);\n",
              "  border: var(--sklearn-color-fitted-level-3);\n",
              "}\n",
              "\n",
              ".sk-estimator-doc-link:hover span {\n",
              "  display: block;\n",
              "}\n",
              "\n",
              "/* \"?\"-specific style due to the `<a>` HTML tag */\n",
              "\n",
              "#sk-container-id-2 a.estimator_doc_link {\n",
              "  float: right;\n",
              "  font-size: 1rem;\n",
              "  line-height: 1em;\n",
              "  font-family: monospace;\n",
              "  background-color: var(--sklearn-color-background);\n",
              "  border-radius: 1rem;\n",
              "  height: 1rem;\n",
              "  width: 1rem;\n",
              "  text-decoration: none;\n",
              "  /* unfitted */\n",
              "  color: var(--sklearn-color-unfitted-level-1);\n",
              "  border: var(--sklearn-color-unfitted-level-1) 1pt solid;\n",
              "}\n",
              "\n",
              "#sk-container-id-2 a.estimator_doc_link.fitted {\n",
              "  /* fitted */\n",
              "  border: var(--sklearn-color-fitted-level-1) 1pt solid;\n",
              "  color: var(--sklearn-color-fitted-level-1);\n",
              "}\n",
              "\n",
              "/* On hover */\n",
              "#sk-container-id-2 a.estimator_doc_link:hover {\n",
              "  /* unfitted */\n",
              "  background-color: var(--sklearn-color-unfitted-level-3);\n",
              "  color: var(--sklearn-color-background);\n",
              "  text-decoration: none;\n",
              "}\n",
              "\n",
              "#sk-container-id-2 a.estimator_doc_link.fitted:hover {\n",
              "  /* fitted */\n",
              "  background-color: var(--sklearn-color-fitted-level-3);\n",
              "}\n",
              "</style><div id=\"sk-container-id-2\" class=\"sk-top-container\"><div class=\"sk-text-repr-fallback\"><pre>LinearRegression()</pre><b>In a Jupyter environment, please rerun this cell to show the HTML representation or trust the notebook. <br />On GitHub, the HTML representation is unable to render, please try loading this page with nbviewer.org.</b></div><div class=\"sk-container\" hidden><div class=\"sk-item\"><div class=\"sk-estimator fitted sk-toggleable\"><input class=\"sk-toggleable__control sk-hidden--visually\" id=\"sk-estimator-id-2\" type=\"checkbox\" checked><label for=\"sk-estimator-id-2\" class=\"sk-toggleable__label fitted sk-toggleable__label-arrow fitted\">&nbsp;&nbsp;LinearRegression<a class=\"sk-estimator-doc-link fitted\" rel=\"noreferrer\" target=\"_blank\" href=\"https://scikit-learn.org/1.5/modules/generated/sklearn.linear_model.LinearRegression.html\">?<span>Documentation for LinearRegression</span></a><span class=\"sk-estimator-doc-link fitted\">i<span>Fitted</span></span></label><div class=\"sk-toggleable__content fitted\"><pre>LinearRegression()</pre></div> </div></div></div></div>"
            ]
          },
          "metadata": {},
          "execution_count": 35
        }
      ]
    },
    {
      "cell_type": "code",
      "source": [
        "# step 8: Make predictions\n",
        "y_pred = model.predict(X_test)"
      ],
      "metadata": {
        "id": "AK7jL0dmWuUZ"
      },
      "execution_count": null,
      "outputs": []
    },
    {
      "cell_type": "code",
      "source": [
        "# step 9: Evaluate the model\n",
        "mae = mean_absolute_error(y_test, y_pred)\n",
        "r2 = r2_score(y_test, y_pred)\n",
        "print(f'Mean Absolute Error: {mae}')\n",
        "print(f'R-squared: {r2}')"
      ],
      "metadata": {
        "colab": {
          "base_uri": "https://localhost:8080/"
        },
        "id": "KTjk3LopW1Np",
        "outputId": "d3c9a1fa-9ed3-4def-f44e-e54e7b6b812e"
      },
      "execution_count": null,
      "outputs": [
        {
          "output_type": "stream",
          "name": "stdout",
          "text": [
            "Mean Absolute Error: 7695.759881515986\n",
            "R-squared: 0.8641694935349226\n"
          ]
        }
      ]
    },
    {
      "cell_type": "code",
      "source": [
        "# Show some predictions vs actual\n",
        "results = pd.DataFrame({'Actual': y_test, 'Predicted': y_pred})\n",
        "print(results.head())"
      ],
      "metadata": {
        "colab": {
          "base_uri": "https://localhost:8080/"
        },
        "id": "oOI_13ahX84a",
        "outputId": "8d6513e9-2833-498d-8226-36eabe1d2cee"
      },
      "execution_count": null,
      "outputs": [
        {
          "output_type": "stream",
          "name": "stdout",
          "text": [
            "     Actual      Predicted\n",
            "361   81735   94141.023017\n",
            "73   113303  101598.329570\n",
            "374   93218   85626.456974\n",
            "155  108154  112407.238662\n",
            "104  120767  117487.417984\n"
          ]
        }
      ]
    },
    {
      "cell_type": "code",
      "source": [
        "# Feature scaling\n",
        "from sklearn.preprocessing import StandardScaler\n",
        "scaler = StandardScaler()\n",
        "X_train_scaled = scaler.fit_transform(X_train)\n",
        "X_test_scaled = scaler.transform(X_test)"
      ],
      "metadata": {
        "id": "k95IIcvfZNZ9"
      },
      "execution_count": null,
      "outputs": []
    },
    {
      "cell_type": "code",
      "source": [
        "from sklearn.model_selection import GridSearchCV\n",
        "from sklearn.linear_model import LinearRegression\n",
        "\n",
        "# Define parameter grid\n",
        "param_grid = {'fit_intercept': [True, False]}\n",
        "\n",
        "# Initialize GridSearchCV\n",
        "grid = GridSearchCV(estimator=LinearRegression(), param_grid=param_grid, cv=5)\n",
        "\n",
        "# Fit GridSearchCV on the training data\n",
        "grid.fit(X_train_scaled, y_train)\n",
        "\n",
        "# Get the best model\n",
        "best_model = grid.best_estimator_\n",
        "\n",
        "# Predict on the test set\n",
        "y_pred = best_model.predict(X_test_scaled)\n",
        "\n",
        "# Print the best parameters\n",
        "print(f\"Best parameters: {grid.best_params_}\")\n"
      ],
      "metadata": {
        "colab": {
          "base_uri": "https://localhost:8080/"
        },
        "id": "cuEdgrXqahNl",
        "outputId": "524b0922-3d13-45d1-bcfb-ae814ef7144a"
      },
      "execution_count": null,
      "outputs": [
        {
          "output_type": "stream",
          "name": "stdout",
          "text": [
            "Best parameters: {'fit_intercept': True}\n"
          ]
        }
      ]
    },
    {
      "cell_type": "code",
      "source": [
        "from sklearn.linear_model import Ridge\n",
        "ridge_model=Ridge(alpha=1.0)\n",
        "ridge_model.fit(X_train_scaled,y_train)\n",
        "y_pred=ridge_model.predict(X_test_scaled)"
      ],
      "metadata": {
        "id": "VqLEGJBrcaI6"
      },
      "execution_count": null,
      "outputs": []
    },
    {
      "cell_type": "code",
      "source": [
        "from sklearn.metrics import mean_absolute_error,r2_score\n",
        "mae=mean_absolute_error(y_test,y_pred)\n",
        "r2=r2_score(y_test,y_pred)\n",
        "print(f'Mean Absolute Error: {mae}')\n",
        "print(f'R-squared: {r2}')"
      ],
      "metadata": {
        "colab": {
          "base_uri": "https://localhost:8080/"
        },
        "id": "Io0eP_HZxUGj",
        "outputId": "ca0438b9-d992-486b-f330-528445dfd9fe"
      },
      "execution_count": null,
      "outputs": [
        {
          "output_type": "stream",
          "name": "stdout",
          "text": [
            "Mean Absolute Error: 7697.252187984525\n",
            "R-squared: 0.8641850167919222\n"
          ]
        }
      ]
    },
    {
      "cell_type": "markdown",
      "source": [
        "# Data Visualization\n"
      ],
      "metadata": {
        "id": "Jzrk2hWaysBC"
      }
    },
    {
      "cell_type": "code",
      "source": [
        "import matplotlib.pyplot as plt\n",
        "plt.figure(figsize=(10,6))\n",
        "plt.scatter(y_test,y_pred,color='blue',edgecolor='k',alpha=0.6)\n",
        "plt.plot([y_test.min(),y_test.max()],[y_test.min(),y_test.max()],color='red',linewidth=2)\n",
        "plt.xlabel('Actual Salary')\n",
        "plt.ylabel('Predicted Salary')\n",
        "plt.title('Actual vs Predicted Salaries')\n",
        "plt.show()"
      ],
      "metadata": {
        "colab": {
          "base_uri": "https://localhost:8080/",
          "height": 564
        },
        "id": "UoYl1hzJxgJB",
        "outputId": "de9d5ffd-8c3a-4f1f-e5da-96bba8280620"
      },
      "execution_count": null,
      "outputs": [
        {
          "output_type": "display_data",
          "data": {
            "text/plain": [
              "<Figure size 1000x600 with 1 Axes>"
            ],
            "image/png": "[encoded data removed]"
          },
          "metadata": {}
        }
      ]
    },
    {
      "cell_type": "code",
      "source": [],
      "metadata": {
        "id": "M23WmA0AzKC5"
      },
      "execution_count": null,
      "outputs": []
    }
  ]
}